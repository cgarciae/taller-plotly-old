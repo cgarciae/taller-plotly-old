{
 "cells": [
  {
   "cell_type": "markdown",
   "metadata": {},
   "source": [
    "## ¿Que es MongoDB?"
   ]
  },
  {
   "cell_type": "markdown",
   "metadata": {},
   "source": [
    "## Imports"
   ]
  },
  {
   "cell_type": "code",
   "execution_count": 1,
   "metadata": {
    "collapsed": true
   },
   "outputs": [],
   "source": [
    "from pokeapi import Pokemon, render\n",
    "from random import randint"
   ]
  },
  {
   "cell_type": "markdown",
   "metadata": {},
   "source": [
    "## pokeapi"
   ]
  },
  {
   "cell_type": "code",
   "execution_count": 2,
   "metadata": {
    "collapsed": false
   },
   "outputs": [
    {
     "name": "stdout",
     "output_type": "stream",
     "text": [
      "bulbasaur: #1\n"
     ]
    },
    {
     "data": {
      "image/png": "[encoded data removed]",
      "text/plain": [
       "<IPython.core.display.Image object>"
      ]
     },
     "metadata": {},
     "output_type": "display_data"
    },
    {
     "name": "stdout",
     "output_type": "stream",
     "text": [
      "propiedades: ['name', 'height', 'base_experience', 'held_items', 'id', 'species', 'location_area_encounters', 'moves', 'order', 'types', 'abilities', 'stats', 'sprites', 'game_indices', 'is_default', 'forms', 'weight']\n"
     ]
    }
   ],
   "source": [
    "bulbasaur = Pokemon.catch(1)\n",
    "render(bulbasaur)\n",
    "print(\"propiedades: {}\".format(list(bulbasaur.keys())))"
   ]
  },
  {
   "cell_type": "markdown",
   "metadata": {},
   "source": [
    "#### Navegando el dictionary\n",
    "Como `bulbasaur` es un objeto tipo `dict`, podemos explorar sus propiedades accediendo por el nombre de estas mediante la sintaxis `dict[key]`. Por ejemplo, veamos el nombre, peso y altura"
   ]
  },
  {
   "cell_type": "code",
   "execution_count": 3,
   "metadata": {
    "collapsed": false
   },
   "outputs": [
    {
     "name": "stdout",
     "output_type": "stream",
     "text": [
      "nombre: bulbasaur, peso: 69, altura: 7\n"
     ]
    }
   ],
   "source": [
    "nombre = bulbasaur[\"name\"]\n",
    "peso = bulbasaur[\"weight\"]\n",
    "altura = bulbasaur[\"height\"]\n",
    "\n",
    "print(\"nombre: {}, peso: {}, altura: {}\".format(nombre, peso, altura))"
   ]
  },
  {
   "cell_type": "markdown",
   "metadata": {},
   "source": [
    "### PyMongo"
   ]
  },
  {
   "cell_type": "code",
   "execution_count": 4,
   "metadata": {
    "collapsed": true
   },
   "outputs": [],
   "source": [
    "from pymongo import MongoClient"
   ]
  },
  {
   "cell_type": "markdown",
   "metadata": {},
   "source": [
    "##### conectar al cliente"
   ]
  },
  {
   "cell_type": "code",
   "execution_count": 5,
   "metadata": {
    "collapsed": true
   },
   "outputs": [],
   "source": [
    "client = MongoClient('mongo', 27017)"
   ]
  },
  {
   "cell_type": "markdown",
   "metadata": {},
   "source": [
    "##### seleccionar base de datos"
   ]
  },
  {
   "cell_type": "code",
   "execution_count": 6,
   "metadata": {
    "collapsed": false
   },
   "outputs": [
    {
     "name": "stdout",
     "output_type": "stream",
     "text": [
      "pokemons: 0\n"
     ]
    }
   ],
   "source": [
    "db = client.pokemon_db\n",
    "\n",
    "# limpiar base de datos\n",
    "db.drop_collection(\"pokemon\")\n",
    "print(\"pokemons: {}\".format(db.pokemon.count()))"
   ]
  },
  {
   "cell_type": "markdown",
   "metadata": {},
   "source": [
    "#### collections"
   ]
  },
  {
   "cell_type": "code",
   "execution_count": 7,
   "metadata": {
    "collapsed": false
   },
   "outputs": [
    {
     "data": {
      "text/plain": [
       "Collection(Database(MongoClient(host=['mongo:27017'], document_class=dict, tz_aware=False, connect=True), 'pokemon_db'), 'pokemon')"
      ]
     },
     "execution_count": 7,
     "metadata": {},
     "output_type": "execute_result"
    }
   ],
   "source": [
    "db.pokemon"
   ]
  },
  {
   "cell_type": "markdown",
   "metadata": {},
   "source": [
    "### insert"
   ]
  },
  {
   "cell_type": "markdown",
   "metadata": {},
   "source": [
    "##### insert_one"
   ]
  },
  {
   "cell_type": "code",
   "execution_count": 8,
   "metadata": {
    "collapsed": false
   },
   "outputs": [
    {
     "name": "stdout",
     "output_type": "stream",
     "text": [
      "pokemons: 1\n"
     ]
    }
   ],
   "source": [
    "db.pokemon.insert_one(bulbasaur)\n",
    "\n",
    "print(\"pokemons: {}\".format(db.pokemon.count()))"
   ]
  },
  {
   "cell_type": "markdown",
   "metadata": {},
   "source": [
    "##### insert_many"
   ]
  },
  {
   "cell_type": "code",
   "execution_count": 9,
   "metadata": {
    "collapsed": false
   },
   "outputs": [
    {
     "name": "stdout",
     "output_type": "stream",
     "text": [
      "pokemons: 150\n"
     ]
    }
   ],
   "source": [
    "pokemons = [ Pokemon.catch(i) for i in range(2, 150 + 1) ]\n",
    "\n",
    "db.pokemon.insert_many(pokemons)\n",
    "\n",
    "print(\"pokemons: {}\".format(db.pokemon.count()))"
   ]
  },
  {
   "cell_type": "markdown",
   "metadata": {},
   "source": [
    "### find"
   ]
  },
  {
   "cell_type": "markdown",
   "metadata": {},
   "source": [
    "##### find_one"
   ]
  },
  {
   "cell_type": "code",
   "execution_count": 10,
   "metadata": {
    "collapsed": false
   },
   "outputs": [
    {
     "name": "stdout",
     "output_type": "stream",
     "text": [
      "charmander: #4\n"
     ]
    },
    {
     "data": {
      "image/png": "[encoded data removed]",
      "text/plain": [
       "<IPython.core.display.Image object>"
      ]
     },
     "metadata": {},
     "output_type": "display_data"
    },
    {
     "name": "stdout",
     "output_type": "stream",
     "text": [
      "snorlax: #143\n"
     ]
    },
    {
     "data": {
      "image/png": "[encoded data removed]",
      "text/plain": [
       "<IPython.core.display.Image object>"
      ]
     },
     "metadata": {},
     "output_type": "display_data"
    },
    {
     "name": "stdout",
     "output_type": "stream",
     "text": [
      "gastly: #92\n"
     ]
    },
    {
     "data": {
      "image/png": "[encoded data removed]",
      "text/plain": [
       "<IPython.core.display.Image object>"
      ]
     },
     "metadata": {},
     "output_type": "display_data"
    },
    {
     "name": "stdout",
     "output_type": "stream",
     "text": [
      "onix: #95\n"
     ]
    },
    {
     "data": {
      "image/png": "[encoded data removed]",
      "text/plain": [
       "<IPython.core.display.Image object>"
      ]
     },
     "metadata": {},
     "output_type": "display_data"
    },
    {
     "name": "stdout",
     "output_type": "stream",
     "text": [
      "caterpie: #10\n"
     ]
    },
    {
     "data": {
      "image/png": "[encoded data removed]",
      "text/plain": [
       "<IPython.core.display.Image object>"
      ]
     },
     "metadata": {},
     "output_type": "display_data"
    }
   ],
   "source": [
    "charmander = db.pokemon.find_one({\"name\": \"charmander\"})\n",
    "render(charmander)\n",
    "\n",
    "pokemon_pesado = db.pokemon.find_one({\"weight\": {\"$gt\": 3000}})\n",
    "render(pokemon_pesado)\n",
    "\n",
    "pokemon_liviano = db.pokemon.find_one({\"weight\": {\"$lt\": 2}})\n",
    "render(pokemon_liviano)\n",
    "\n",
    "pokemon_alto = db.pokemon.find_one({\"height\": {\"$gt\": 80}})\n",
    "render(pokemon_alto)\n",
    "\n",
    "pokemon_bajito = db.pokemon.find_one({\"height\": {\"$lt\": 5}})\n",
    "render(pokemon_bajito)"
   ]
  },
  {
   "cell_type": "markdown",
   "metadata": {},
   "source": [
    "##### find"
   ]
  },
  {
   "cell_type": "code",
   "execution_count": 11,
   "metadata": {
    "collapsed": false
   },
   "outputs": [
    {
     "name": "stdout",
     "output_type": "stream",
     "text": [
      "arbok: #24\n"
     ]
    },
    {
     "data": {
      "image/png": "[encoded data removed]",
      "text/plain": [
       "<IPython.core.display.Image object>"
      ]
     },
     "metadata": {},
     "output_type": "display_data"
    },
    {
     "name": "stdout",
     "output_type": "stream",
     "text": [
      "golem: #76\n"
     ]
    },
    {
     "data": {
      "image/png": "[encoded data removed]",
      "text/plain": [
       "<IPython.core.display.Image object>"
      ]
     },
     "metadata": {},
     "output_type": "display_data"
    },
    {
     "name": "stdout",
     "output_type": "stream",
     "text": [
      "onix: #95\n"
     ]
    },
    {
     "data": {
      "image/png": "[encoded data removed]",
      "text/plain": [
       "<IPython.core.display.Image object>"
      ]
     },
     "metadata": {},
     "output_type": "display_data"
    },
    {
     "name": "stdout",
     "output_type": "stream",
     "text": [
      "gyarados: #130\n"
     ]
    },
    {
     "data": {
      "image/png": "[encoded data removed]",
      "text/plain": [
       "<IPython.core.display.Image object>"
      ]
     },
     "metadata": {},
     "output_type": "display_data"
    },
    {
     "name": "stdout",
     "output_type": "stream",
     "text": [
      "lapras: #131\n"
     ]
    },
    {
     "data": {
      "image/png": "[encoded data removed]",
      "text/plain": [
       "<IPython.core.display.Image object>"
      ]
     },
     "metadata": {},
     "output_type": "display_data"
    },
    {
     "name": "stdout",
     "output_type": "stream",
     "text": [
      "snorlax: #143\n"
     ]
    },
    {
     "data": {
      "image/png": "[encoded data removed]",
      "text/plain": [
       "<IPython.core.display.Image object>"
      ]
     },
     "metadata": {},
     "output_type": "display_data"
    },
    {
     "name": "stdout",
     "output_type": "stream",
     "text": [
      "dragonair: #148\n"
     ]
    },
    {
     "data": {
      "image/png": "[encoded data removed]",
      "text/plain": [
       "<IPython.core.display.Image object>"
      ]
     },
     "metadata": {},
     "output_type": "display_data"
    },
    {
     "name": "stdout",
     "output_type": "stream",
     "text": [
      "dragonite: #149\n"
     ]
    },
    {
     "data": {
      "image/png": "[encoded data removed]",
      "text/plain": [
       "<IPython.core.display.Image object>"
      ]
     },
     "metadata": {},
     "output_type": "display_data"
    }
   ],
   "source": [
    "pokemons = db.pokemon.find({\"$or\": [\n",
    "    {\"weight\": {\"$gt\": 2000}},\n",
    "    {\"height\": {\"$gt\": 30}}\n",
    "]})\n",
    "\n",
    "for pokemon in pokemons:\n",
    "    render(pokemon)"
   ]
  },
  {
   "cell_type": "markdown",
   "metadata": {},
   "source": [
    "### update"
   ]
  },
  {
   "cell_type": "markdown",
   "metadata": {},
   "source": [
    "##### update_one"
   ]
  },
  {
   "cell_type": "code",
   "execution_count": 12,
   "metadata": {
    "collapsed": false
   },
   "outputs": [
    {
     "name": "stdout",
     "output_type": "stream",
     "text": [
      "pikachu: #25\n"
     ]
    },
    {
     "data": {
      "image/png": "[encoded data removed]",
      "text/plain": [
       "<IPython.core.display.Image object>"
      ]
     },
     "metadata": {},
     "output_type": "display_data"
    },
    {
     "name": "stdout",
     "output_type": "stream",
     "text": [
      "pika: #25\n"
     ]
    },
    {
     "data": {
      "image/jpeg": "[encoded data removed]",
      "text/plain": [
       "<IPython.core.display.Image object>"
      ]
     },
     "metadata": {},
     "output_type": "display_data"
    }
   ],
   "source": [
    "pikachu = db.pokemon.find_one({\"id\": 25})\n",
    "render(pikachu)\n",
    "\n",
    "db.pokemon.update_one({\"id\": 25}, {\"$set\": {\n",
    "    \"name\": \"pika\", \n",
    "    \"sprites.front_default\": \"http://pm1.narvii.com/6301/2031a6cf8a0e94b5ac962bc88b7b05339008a40f_128.jpg\"\n",
    "}})\n",
    "\n",
    "pikachu = db.pokemon.find_one({\"id\": 25})\n",
    "render(pikachu)"
   ]
  },
  {
   "cell_type": "markdown",
   "metadata": {},
   "source": [
    "##### update_many"
   ]
  },
  {
   "cell_type": "markdown",
   "metadata": {},
   "source": [
    "### delete"
   ]
  },
  {
   "cell_type": "code",
   "execution_count": 13,
   "metadata": {
    "collapsed": false,
    "scrolled": true
   },
   "outputs": [
    {
     "name": "stdout",
     "output_type": "stream",
     "text": [
      "mewtwo: #150\n"
     ]
    },
    {
     "data": {
      "image/png": "[encoded data removed]",
      "text/plain": [
       "<IPython.core.display.Image object>"
      ]
     },
     "metadata": {},
     "output_type": "display_data"
    },
    {
     "data": {
      "text/plain": [
       "<pymongo.results.DeleteResult at 0x7fd9a4efcea0>"
      ]
     },
     "execution_count": 13,
     "metadata": {},
     "output_type": "execute_result"
    }
   ],
   "source": [
    "mewtwo = db.pokemon.find_one({\"name\": \"mewtwo\"})\n",
    "render(mewtwo)\n",
    "\n",
    "db.pokemon.delete_one({\"name\": \"mewtwo\"})"
   ]
  },
  {
   "cell_type": "code",
   "execution_count": 14,
   "metadata": {
    "collapsed": false
   },
   "outputs": [
    {
     "name": "stdout",
     "output_type": "stream",
     "text": [
      "mewtwo: None\n",
      "pokemons: 149\n"
     ]
    }
   ],
   "source": [
    "mewtwo = db.pokemon.find_one({\"name\": \"mewtwo\"})\n",
    "print(\"mewtwo: {}\".format(mewtwo))\n",
    "\n",
    "print(\"pokemons: {}\".format(db.pokemon.count()))"
   ]
  },
  {
   "cell_type": "markdown",
   "metadata": {},
   "source": [
    "### aggregate"
   ]
  },
  {
   "cell_type": "code",
   "execution_count": 41,
   "metadata": {
    "collapsed": false
   },
   "outputs": [
    {
     "data": {
      "text/plain": [
       "{'_id': None,\n",
       " 'avg_height': 11.946308724832214,\n",
       " 'avg_weight': 457.2281879194631,\n",
       " 'total_height': 1780,\n",
       " 'total_weight': 68127}"
      ]
     },
     "execution_count": 41,
     "metadata": {},
     "output_type": "execute_result"
    }
   ],
   "source": [
    "estadisticas = list(db.pokemon.aggregate(\n",
    "   [\n",
    "     {\n",
    "         \"$group\":\n",
    "         {\n",
    "             \"_id\": None,\n",
    "             \"avg_weight\": { \"$avg\": \"$weight\" },\n",
    "             \"avg_height\": { \"$avg\": \"$height\" },\n",
    "             \"total_weight\": { \"$sum\": \"$weight\" },\n",
    "             \"total_height\": { \"$sum\": \"$height\" }\n",
    "         }\n",
    "     }\n",
    "   ]\n",
    "))[0]\n",
    "\n",
    "estadisticas"
   ]
  },
  {
   "cell_type": "markdown",
   "metadata": {},
   "source": [
    "# Tarea 1\n",
    "\n",
    "La propiedad `types` es un array que contiene lo tipos del pokemon,  e.g. `dragonite` es tipo `dragon` y tipo `flying`."
   ]
  },
  {
   "cell_type": "code",
   "execution_count": 55,
   "metadata": {
    "collapsed": false
   },
   "outputs": [
    {
     "data": {
      "text/plain": [
       "[{'slot': 2,\n",
       "  'type': {'name': 'flying', 'url': 'http://pokeapi.co/api/v2/type/3/'}},\n",
       " {'slot': 1,\n",
       "  'type': {'name': 'dragon', 'url': 'http://pokeapi.co/api/v2/type/16/'}}]"
      ]
     },
     "execution_count": 55,
     "metadata": {},
     "output_type": "execute_result"
    }
   ],
   "source": [
    "db.pokemon.find_one({\"name\": \"dragonite\"})[\"types\"]"
   ]
  },
  {
   "cell_type": "markdown",
   "metadata": {},
   "source": [
    "##### Meta\n",
    "Encontrar los **12** pokemons tipo `fire`. \n",
    "\n",
    "*Utiliza [$elemMatch](https://docs.mongodb.com/manual/reference/operator/query/elemMatch/#op._S_elemMatch) para selecionar documentos basados en las propiedades de un campo tipo `array`.*"
   ]
  },
  {
   "cell_type": "code",
   "execution_count": 56,
   "metadata": {
    "collapsed": false
   },
   "outputs": [
    {
     "name": "stdout",
     "output_type": "stream",
     "text": [
      "Tipo Fuego: 12\n",
      "charmander: #4\n"
     ]
    },
    {
     "data": {
      "image/png": "[encoded data removed]",
      "text/plain": [
       "<IPython.core.display.Image object>"
      ]
     },
     "metadata": {},
     "output_type": "display_data"
    },
    {
     "name": "stdout",
     "output_type": "stream",
     "text": [
      "charmeleon: #5\n"
     ]
    },
    {
     "data": {
      "image/png": "[encoded data removed]",
      "text/plain": [
       "<IPython.core.display.Image object>"
      ]
     },
     "metadata": {},
     "output_type": "display_data"
    },
    {
     "name": "stdout",
     "output_type": "stream",
     "text": [
      "charizard: #6\n"
     ]
    },
    {
     "data": {
      "image/png": "[encoded data removed]",
      "text/plain": [
       "<IPython.core.display.Image object>"
      ]
     },
     "metadata": {},
     "output_type": "display_data"
    },
    {
     "name": "stdout",
     "output_type": "stream",
     "text": [
      "vulpix: #37\n"
     ]
    },
    {
     "data": {
      "image/png": "[encoded data removed]",
      "text/plain": [
       "<IPython.core.display.Image object>"
      ]
     },
     "metadata": {},
     "output_type": "display_data"
    },
    {
     "name": "stdout",
     "output_type": "stream",
     "text": [
      "ninetales: #38\n"
     ]
    },
    {
     "data": {
      "image/png": "[encoded data removed]",
      "text/plain": [
       "<IPython.core.display.Image object>"
      ]
     },
     "metadata": {},
     "output_type": "display_data"
    },
    {
     "name": "stdout",
     "output_type": "stream",
     "text": [
      "growlithe: #58\n"
     ]
    },
    {
     "data": {
      "image/png": "[encoded data removed]",
      "text/plain": [
       "<IPython.core.display.Image object>"
      ]
     },
     "metadata": {},
     "output_type": "display_data"
    },
    {
     "name": "stdout",
     "output_type": "stream",
     "text": [
      "arcanine: #59\n"
     ]
    },
    {
     "data": {
      "image/png": "[encoded data removed]",
      "text/plain": [
       "<IPython.core.display.Image object>"
      ]
     },
     "metadata": {},
     "output_type": "display_data"
    },
    {
     "name": "stdout",
     "output_type": "stream",
     "text": [
      "ponyta: #77\n"
     ]
    },
    {
     "data": {
      "image/png": "[encoded data removed]",
      "text/plain": [
       "<IPython.core.display.Image object>"
      ]
     },
     "metadata": {},
     "output_type": "display_data"
    },
    {
     "name": "stdout",
     "output_type": "stream",
     "text": [
      "rapidash: #78\n"
     ]
    },
    {
     "data": {
      "image/png": "[encoded data removed]",
      "text/plain": [
       "<IPython.core.display.Image object>"
      ]
     },
     "metadata": {},
     "output_type": "display_data"
    },
    {
     "name": "stdout",
     "output_type": "stream",
     "text": [
      "magmar: #126\n"
     ]
    },
    {
     "data": {
      "image/png": "[encoded data removed]",
      "text/plain": [
       "<IPython.core.display.Image object>"
      ]
     },
     "metadata": {},
     "output_type": "display_data"
    },
    {
     "name": "stdout",
     "output_type": "stream",
     "text": [
      "flareon: #136\n"
     ]
    },
    {
     "data": {
      "image/png": "[encoded data removed]",
      "text/plain": [
       "<IPython.core.display.Image object>"
      ]
     },
     "metadata": {},
     "output_type": "display_data"
    },
    {
     "name": "stdout",
     "output_type": "stream",
     "text": [
      "moltres: #146\n"
     ]
    },
    {
     "data": {
      "image/png": "[encoded data removed]",
      "text/plain": [
       "<IPython.core.display.Image object>"
      ]
     },
     "metadata": {},
     "output_type": "display_data"
    }
   ],
   "source": [
    "##########################\n",
    "# Tu codigo va aqui\n",
    "##########################\n",
    "\n",
    "tipo_fuego = db.pokemon.find({\"types\": {\"$elemMatch\": {\"type.name\": \"fire\"}}})\n",
    "tipo_fuego = list(tipo_fuego)\n",
    "\n",
    "print(\"Tipo Fuego: {}\".format(len(tipo_fuego)))\n",
    "for pokemon in tipo_fuego:\n",
    "    render(pokemon)"
   ]
  },
  {
   "cell_type": "markdown",
   "metadata": {},
   "source": [
    "# Tarea 2\n",
    "\n",
    "Utiliza `Pokemon.catch` para agregar de nuevo a Mewto (id: `150`) y los pokemon con `id` entre el `151` y `251`. "
   ]
  },
  {
   "cell_type": "code",
   "execution_count": 60,
   "metadata": {
    "collapsed": false
   },
   "outputs": [
    {
     "name": "stdout",
     "output_type": "stream",
     "text": [
      "pokemons: 251\n"
     ]
    }
   ],
   "source": [
    "##########################\n",
    "# Tu codigo va aqui\n",
    "##########################\n",
    "pokemons = [ Pokemon.catch(i) for i in range(150, 251 + 1) ]\n",
    "db.pokemon.insert_many(pokemons)\n",
    "\n",
    "print(\"pokemons: {}\".format(db.pokemon.count()))"
   ]
  },
  {
   "cell_type": "markdown",
   "metadata": {},
   "source": [
    "# Tarea 3\n",
    "\n",
    "Agrupa todos lo pokemons por su `type` principal (`slot 1`) y averigua cual es el tipo mas comun y el mas raro de pokemon.\n",
    "\n",
    "Pistas:\n",
    "\n",
    "* [$unwind](https://docs.mongodb.com/manual/reference/operator/aggregation/unwind/)\n",
    "\n",
    "* [$match](https://docs.mongodb.com/manual/reference/operator/aggregation/match/)\n",
    "\n",
    "* [$group](https://docs.mongodb.com/manual/reference/operator/aggregation/group/)\n",
    "\n",
    "* [$sort](https://docs.mongodb.com/manual/reference/operator/aggregation/sort/)"
   ]
  },
  {
   "cell_type": "code",
   "execution_count": 76,
   "metadata": {
    "collapsed": false
   },
   "outputs": [
    {
     "name": "stdout",
     "output_type": "stream",
     "text": [
      "17\n",
      "[{'_id': 'water', 'count': 46}, {'_id': 'normal', 'count': 37}, {'_id': 'bug', 'count': 22}, {'_id': 'grass', 'count': 21}, {'_id': 'fire', 'count': 20}, {'_id': 'psychic', 'count': 15}, {'_id': 'electric', 'count': 15}, {'_id': 'poison', 'count': 15}, {'_id': 'rock', 'count': 13}, {'_id': 'ground', 'count': 11}, {'_id': 'fighting', 'count': 9}, {'_id': 'fairy', 'count': 7}, {'_id': 'ice', 'count': 6}, {'_id': 'dark', 'count': 5}, {'_id': 'ghost', 'count': 4}, {'_id': 'dragon', 'count': 3}, {'_id': 'steel', 'count': 2}]\n"
     ]
    }
   ],
   "source": [
    "groups = db.pokemon.aggregate([\n",
    "    {\n",
    "        \"$unwind\" : \"$types\"\n",
    "    },\n",
    "    {\n",
    "        \"$match\": { \"types.slot\": 1 }\n",
    "    },\n",
    "    {\n",
    "        \"$group\": { \n",
    "            \"_id\": \"$types.type.name\",\n",
    "            \"count\": { \"$sum\" : 1 }\n",
    "        }\n",
    "    },\n",
    "    {\n",
    "        \"$sort\" : { \"count\" : -1 }\n",
    "    }\n",
    "])\n",
    "\n",
    "groups = list(groups)\n",
    "print(len(groups))\n",
    "print(groups)\n",
    "\n"
   ]
  }
 ],
 "metadata": {
  "kernelspec": {
   "display_name": "Python 3",
   "language": "python",
   "name": "python3"
  },
  "language_info": {
   "codemirror_mode": {
    "name": "ipython",
    "version": 3
   },
   "file_extension": ".py",
   "mimetype": "text/x-python",
   "name": "python",
   "nbconvert_exporter": "python",
   "pygments_lexer": "ipython3",
   "version": "3.5.2"
  }
 },
 "nbformat": 4,
 "nbformat_minor": 2
}
