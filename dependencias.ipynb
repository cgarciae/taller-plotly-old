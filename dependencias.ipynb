{
 "cells": [
  {
   "cell_type": "markdown",
   "metadata": {},
   "source": [
    "# Instalar Dependencias"
   ]
  },
  {
   "cell_type": "code",
   "execution_count": 1,
   "metadata": {},
   "outputs": [
    {
     "name": "stdout",
     "output_type": "stream",
     "text": [
      "Microsoft Windows [Version 10.0.14393]\r\n",
      "(c) 2016 Microsoft Corporation. All rights reserved.\r\n",
      "\r\n",
      "D:\\bdg\\taller-mongodb\\notebooks>pip install plotly pymongo\n",
      "Collecting plotly\r\n",
      "  Downloading plotly-2.0.9.tar.gz (964kB)\r\n",
      "Collecting pymongo\r\n",
      "  Downloading pymongo-3.4.0.tar.gz (583kB)\r\n",
      "Requirement already satisfied: decorator>=4.0.6 in c:\\users\\cgarc\\anaconda3\\lib\\site-packages (from plotly)\r\n",
      "Requirement already satisfied: nbformat>=4.2 in c:\\users\\cgarc\\anaconda3\\lib\\site-packages (from plotly)\r\n",
      "Requirement already satisfied: pytz in c:\\users\\cgarc\\anaconda3\\lib\\site-packages (from plotly)\r\n",
      "Requirement already satisfied: requests in c:\\users\\cgarc\\anaconda3\\lib\\site-packages (from plotly)\r\n",
      "Requirement already satisfied: six in c:\\users\\cgarc\\anaconda3\\lib\\site-packages (from plotly)\r\n",
      "Building wheels for collected packages: plotly, pymongo\r\n",
      "  Running setup.py bdist_wheel for plotly: started\r\n",
      "  Running setup.py bdist_wheel for plotly: finished with status 'done'\r\n",
      "  Stored in directory: C:\\Users\\cgarc\\AppData\\Local\\pip\\Cache\\wheels\\f6\\09\\13\\58e582110bb6ef72de81cdf497981d274bc9f10e1d0be09530\r\n",
      "  Running setup.py bdist_wheel for pymongo: started\r\n",
      "  Running setup.py bdist_wheel for pymongo: finished with status 'done'\r\n",
      "  Stored in directory: C:\\Users\\cgarc\\AppData\\Local\\pip\\Cache\\wheels\\41\\12\\7b\\8a5763b32bbea5d7bca33dfbdb4740541ef17f5ca3f22b3be9\r\n",
      "Successfully built plotly pymongo\r\n",
      "Installing collected packages: plotly, pymongo\r\n",
      "Successfully installed plotly-2.0.9 pymongo-3.4.0\r\n",
      "\r\n",
      "D:\\bdg\\taller-mongodb\\notebooks>"
     ]
    }
   ],
   "source": [
    "%%cmd\n",
    "pip install plotly pymongo"
   ]
  }
 ],
 "metadata": {
  "kernelspec": {
   "display_name": "Python 3",
   "language": "python",
   "name": "python3"
  },
  "language_info": {
   "codemirror_mode": {
    "name": "ipython",
    "version": 3
   },
   "file_extension": ".py",
   "mimetype": "text/x-python",
   "name": "python",
   "nbconvert_exporter": "python",
   "pygments_lexer": "ipython3",
   "version": "3.6.1"
  }
 },
 "nbformat": 4,
 "nbformat_minor": 2
}
